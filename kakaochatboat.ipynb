{
 "cells": [
  {
   "cell_type": "code",
   "execution_count": 1,
   "metadata": {},
   "outputs": [
    {
     "ename": "SyntaxError",
     "evalue": "invalid character in identifier (<ipython-input-1-aa2f3872bb87>, line 6)",
     "output_type": "error",
     "traceback": [
      "\u001b[1;36m  File \u001b[1;32m\"<ipython-input-1-aa2f3872bb87>\"\u001b[1;36m, line \u001b[1;32m6\u001b[0m\n\u001b[1;33m    @app.route(‘/keyboard’)\u001b[0m\n\u001b[1;37m               ^\u001b[0m\n\u001b[1;31mSyntaxError\u001b[0m\u001b[1;31m:\u001b[0m invalid character in identifier\n"
     ]
    }
   ],
   "source": [
    "import os\n",
    "from flask import Flask, request, jsonify\n",
    "\n",
    "app = Flask(__name__)\n",
    "\n",
    "@app.route(‘/keyboard’)\n",
    "def Keyboard():\n",
    "\n",
    "    dataSend = {\n",
    "       “type” : “buttons”,\n",
    "       “buttons” : [“나의 위치 알기”, “빠른길찾기”,”제공서비스알아보기”]\n",
    "    }\n",
    "    return jsonify(dataSend)\n",
    "\n",
    "@app.route(‘/message’, methods=[‘POST’])\n",
    "def Message():\n",
    "\n",
    "    dataRecieve = request.get_json()\n",
    "    content = dataReceive[‘content’]\n",
    "   \n",
    "    if content == u”나의위치알기”:\n",
    "        dataSend = {\n",
    "           “message”: {\n",
    "              “text” : “사진을 찍어주세요”\n",
    "            }\n",
    "        }\n",
    "    elif content == u”빠른길찾기”:\n",
    "       dataSend = {\n",
    "          “message”: {\n",
    "               “text” : “출발사진을 찍어주세요”\n",
    "             }\n",
    "        }\n",
    "    elif content == u”제공서비스알아보기”:\n",
    "      dataSend = {\n",
    "         “type”: buttons”,\n",
    "         “buttons” : [“1. 우편”, “2. 프린트”, “3. 은행”]\n",
    "      }\n",
    "\n",
    "    return jsonify(dataSend)\n",
    "\n",
    "if __name__== ”__main__”:\n",
    "   app.run(host=’0.0.0.0’, port = 5000)"
   ]
  },
  {
   "cell_type": "code",
   "execution_count": null,
   "metadata": {},
   "outputs": [],
   "source": []
  }
 ],
 "metadata": {
  "kernelspec": {
   "display_name": "Python 3",
   "language": "python",
   "name": "python3"
  },
  "language_info": {
   "codemirror_mode": {
    "name": "ipython",
    "version": 3
   },
   "file_extension": ".py",
   "mimetype": "text/x-python",
   "name": "python",
   "nbconvert_exporter": "python",
   "pygments_lexer": "ipython3",
   "version": "3.7.0"
  }
 },
 "nbformat": 4,
 "nbformat_minor": 2
}
